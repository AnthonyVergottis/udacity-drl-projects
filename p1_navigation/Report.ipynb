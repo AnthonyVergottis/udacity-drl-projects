{
 "cells": [
  {
   "cell_type": "markdown",
   "metadata": {},
   "source": [
    "# Navigation Project 1\n",
    "Author: [Anthony Vergottis](http://github.com/anthonyvergottis) \n",
    "\n",
    "The aim of this project is to explore a value-based method for solving the reinforcement learning problem. The algorithic implementation is based upon a simple Deep Q Network, implementing a model-free approach. The agent interacts with a enviroment whose state space is composed of 37 continious values. There are for possible actions for the actions space:\n",
    "- `0` - walk forward \n",
    "- `1` - walk backward\n",
    "- `2` - turn left\n",
    "- `3` - turn right\n",
    "\n",
    "The goal of the agent is to pick up yellow bananas (receiving a reward: +1) whilst avoiding blue bananas (receiving a reward: -1). The criteria for a good solution implementation require that the agent receives a average reward greater that 13 for 100 episodes. The simulation enviroment is provided by Unity ML."
   ]
  },
  {
   "cell_type": "markdown",
   "metadata": {},
   "source": [
    "The report is split in four parts:\n",
    "\n",
    "1. **Solution Strategy**\n",
    "2. **Hyperparameters**\n",
    "3. **Results**\n",
    "4. **Future work for improvements** "
   ]
  },
  {
   "cell_type": "markdown",
   "metadata": {},
   "source": [
    "## Solution Strategy"
   ]
  },
  {
   "cell_type": "code",
   "execution_count": null,
   "metadata": {},
   "outputs": [],
   "source": []
  },
  {
   "cell_type": "code",
   "execution_count": null,
   "metadata": {},
   "outputs": [],
   "source": []
  },
  {
   "cell_type": "markdown",
   "metadata": {},
   "source": [
    "# Hyperparameters"
   ]
  },
  {
   "cell_type": "markdown",
   "metadata": {},
   "source": [
    "### The hyperparameters used were as follow:\n",
    "\n",
    "The valus are named as they are found in the code:\n",
    "\n",
    "    - BUFFER_SIZE = int(1e5)  # replay buffer size\n",
    "    - BATCH_SIZE = 64         # minibatch size\n",
    "    - GAMMA = 0.99            # discount factor\n",
    "    - TAU = 1e-3              # for soft update of target parameters\n",
    "    - LR = 5e-4               # learning rate\n",
    "    - UPDATE_EVERY = 4        # how often to update the network\n",
    "    - n_episodes = 2000       # Limit of number of episodes to run\n",
    "    - max_t = 1000            # Max No. of time steps per episode\n",
    "    - eps_start = 1.0         # Epsilon starting value\n",
    "    - eps_end = 0.01          # Smallest epsilon allowed\n",
    "    - eps_decay = 0.995       # Epsilon decay rate"
   ]
  },
  {
   "cell_type": "code",
   "execution_count": null,
   "metadata": {},
   "outputs": [],
   "source": []
  },
  {
   "cell_type": "markdown",
   "metadata": {},
   "source": [
    "## Results"
   ]
  },
  {
   "cell_type": "code",
   "execution_count": null,
   "metadata": {},
   "outputs": [],
   "source": []
  },
  {
   "attachments": {},
   "cell_type": "markdown",
   "metadata": {},
   "source": [
    "The DQN agent solved the environment in 449 episodes, with an Average Score: 13.03\n",
    "![dqn_scores.png](images/dqn_scores.png)\n"
   ]
  },
  {
   "cell_type": "markdown",
   "metadata": {},
   "source": [
    "## Future work for improvements\n",
    "\n",
    "1. Implement Dual Deep Q Network\n",
    "2. Try using prioritized replay memory\n",
    "3. Look into the Dueling Deep Network algorithm"
   ]
  }
 ],
 "metadata": {
  "celltoolbar": "Raw Cell Format",
  "kernelspec": {
   "display_name": "test_env",
   "language": "python",
   "name": "test_env"
  },
  "language_info": {
   "codemirror_mode": {
    "name": "ipython",
    "version": 3
   },
   "file_extension": ".py",
   "mimetype": "text/x-python",
   "name": "python",
   "nbconvert_exporter": "python",
   "pygments_lexer": "ipython3",
   "version": "3.6.7"
  }
 },
 "nbformat": 4,
 "nbformat_minor": 2
}
